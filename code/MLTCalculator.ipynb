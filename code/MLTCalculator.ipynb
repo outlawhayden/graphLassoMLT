{
 "cells": [
  {
   "cell_type": "code",
   "execution_count": 2,
   "metadata": {},
   "outputs": [],
   "source": [
    "import numpy as np\n",
    "import itertools\n",
    "from itertools import chain\n",
    "import networkx as nx\n",
    "import pandas as pd\n",
    "from random import randint, randrange\n",
    "import string\n",
    "import os\n",
    "from numpy import random\n",
    "from numpy.linalg import matrix_rank\n",
    "from sklearn.covariance import GraphicalLasso\n",
    "import matplotlib as mpl\n",
    "import matplotlib.pyplot as plt\n",
    "import seaborn as sns\n",
    "\n",
    "pd.options.mode.chained_assignment = None\n",
    "\n",
    "\n",
    "import warnings\n",
    "warnings.filterwarnings('ignore')"
   ]
  },
  {
   "cell_type": "code",
   "execution_count": 3,
   "metadata": {},
   "outputs": [],
   "source": [
    "def flatten(listOfLists):\n",
    "    return chain.from_iterable(listOfLists)"
   ]
  },
  {
   "attachments": {},
   "cell_type": "markdown",
   "metadata": {},
   "source": [
    "## Generate GL Covariance Estimate"
   ]
  },
  {
   "cell_type": "code",
   "execution_count": 6,
   "metadata": {},
   "outputs": [],
   "source": [
    "# Given a number of dimensions, alpha value, and number of samples, take numSamples samples from\n",
    "# standard multivariate normal, run graphLasso and get covariance estimate\n",
    "def getGLCovariance(nDim, alpha, numSamples):\n",
    "    zeroMean = np.zeros(nDim)\n",
    "    oneVariance = np.identity(nDim)\n",
    "    normalSample = np.random.multivariate_normal(mean = zeroMean, cov = oneVariance, size = numSamples)\n",
    "    # Use lars solver, otherwise bumps into convergence issues\n",
    "    graphLasso = GraphicalLasso(alpha = alpha, mode = 'lars', max_iter = 100, assume_centered = True)\n",
    "    graphLasso.fit(normalSample)\n",
    "    covarianceEstimate = graphLasso.covariance_\n",
    "    return(covarianceEstimate)"
   ]
  },
  {
   "attachments": {},
   "cell_type": "markdown",
   "metadata": {},
   "source": [
    "## MLT Calculation"
   ]
  },
  {
   "cell_type": "code",
   "execution_count": 4,
   "metadata": {},
   "outputs": [],
   "source": [
    "def adjacencyJacobian(graph_input):\n",
    "    graph = graph_input.copy()\n",
    "    edges = graph.edges\n",
    "    nodes = graph.nodes\n",
    "    nodeweights = {n:random.uniform(-1000,1000) for n in graph.nodes}\n",
    "    jacobian = np.empty((len(edges), len(nodes)))\n",
    "    for e in enumerate(edges):\n",
    "        for n in enumerate(nodes):\n",
    "            nodeat = n[1]\n",
    "            edgeat = e[1]\n",
    "            \n",
    "            if nodeat == edgeat[0]:\n",
    "                weight = nodeweights[edgeat[0]] - nodeweights[edgeat[1]]\n",
    "            elif nodeat == edgeat[1]:\n",
    "                weight = nodeweights[edgeat[1]] - nodeweights[edgeat[0]]\n",
    "            else:\n",
    "                weight = 0\n",
    "            \n",
    "            jacobian[e[0], n[0]] = weight\n",
    "    return(jacobian)\n",
    "            \n",
    "    \n",
    "def MLTBig(graph_input):\n",
    "    jacobian = adjacencyJacobian(graph_input)\n",
    "    at = 1\n",
    "    num_edges = len(graph_input.edges)\n",
    "\n",
    "    if num_edges == 0:\n",
    "        return(1)\n",
    "\n",
    "    rank = matrix_rank(jacobian)\n",
    "\n",
    "    \n",
    "    while rank < num_edges:\n",
    "        at += 1\n",
    "        temp = adjacencyJacobian(graph_input)\n",
    "        \n",
    "        jacobian = np.hstack((temp, jacobian))\n",
    "        rank = matrix_rank(jacobian)\n",
    "        #print(jacobian, \"\\n\")\n",
    "    return(at + 1)"
   ]
  },
  {
   "attachments": {},
   "cell_type": "markdown",
   "metadata": {},
   "source": [
    "## Trial Area"
   ]
  },
  {
   "cell_type": "code",
   "execution_count": 7,
   "metadata": {},
   "outputs": [
    {
     "name": "stdout",
     "output_type": "stream",
     "text": [
      "[[0.4663112  0.23983256 0.47725114]\n",
      " [0.23983256 0.55113702 0.7540122 ]\n",
      " [0.47725114 0.7540122  1.09720767]]\n"
     ]
    }
   ],
   "source": [
    "GLCOV = getGLCovariance(3,0.001,2)\n",
    "print(GLCOV)\n",
    "G = nx.from_numpy_array(GLCOV)\n",
    "\n",
    "# NOTE THAT NETWORKX ADDS SELFLOOP EDGES ALONG EACH NODE WHEN CREATING FROM NDARRAY\n",
    "G.remove_edges_from(nx.selfloop_edges(G))"
   ]
  }
 ],
 "metadata": {
  "kernelspec": {
   "display_name": "graphlassomlt",
   "language": "python",
   "name": "python3"
  },
  "language_info": {
   "codemirror_mode": {
    "name": "ipython",
    "version": 3
   },
   "file_extension": ".py",
   "mimetype": "text/x-python",
   "name": "python",
   "nbconvert_exporter": "python",
   "pygments_lexer": "ipython3",
   "version": "3.9.12"
  },
  "orig_nbformat": 4
 },
 "nbformat": 4,
 "nbformat_minor": 2
}
