{
 "cells": [
  {
   "cell_type": "code",
   "execution_count": 1,
   "metadata": {},
   "outputs": [],
   "source": [
    "import numpy as np\n",
    "import itertools\n",
    "from itertools import chain\n",
    "import networkx as nx\n",
    "import pandas as pd\n",
    "from random import randint, randrange\n",
    "import string\n",
    "import os\n",
    "from numpy import random\n",
    "from numpy.linalg import matrix_rank\n",
    "from sklearn.covariance import GraphicalLasso\n",
    "import matplotlib as mpl\n",
    "import matplotlib.pyplot as plt\n",
    "import seaborn as sns\n",
    "\n",
    "pd.options.mode.chained_assignment = None\n",
    "\n",
    "\n",
    "import warnings\n",
    "warnings.filterwarnings('ignore')\n",
    "\n",
    "from MLTCalculator import flatten, getGLCovariance, adjacencyJacobian, MLTBig\n"
   ]
  },
  {
   "cell_type": "code",
   "execution_count": 2,
   "metadata": {},
   "outputs": [],
   "source": [
    "def makeMLTFrame(starta, stepa, enda, numpera, ndim, nsamp):\n",
    "    data = []\n",
    "    for a in np.arange(enda, starta, -stepa):\n",
    "        sufficient = 0\n",
    "        for i in range(numpera):\n",
    "            counter = numpera\n",
    "            #print(a)\n",
    "            try:\n",
    "                S = getGLCovariance(ndim, a, nsamp)\n",
    "            except:\n",
    "                counter -= 1\n",
    "\n",
    "            G = nx.from_numpy_array(S)\n",
    "            G.remove_edges_from(nx.selfloop_edges(G))\n",
    "            #print(S)\n",
    "            MLT = MLTBig(G)\n",
    "            if MLT <= nsamp:\n",
    "                sufficient += 1\n",
    "        data.append([a, sufficient/counter, counter, nsamp])\n",
    "    df = pd.DataFrame(data)\n",
    "    df.columns = [\"alpha\", \"pr\", \"samples\", \"nsamp\"]\n",
    "    return(df)"
   ]
  },
  {
   "cell_type": "code",
   "execution_count": 3,
   "metadata": {},
   "outputs": [
    {
     "name": "stdout",
     "output_type": "stream",
     "text": [
      "[[ 1.57648253  0.17437789  0.04292752]\n",
      " [ 0.17437789  0.04876076 -0.12964989]\n",
      " [ 0.04292752 -0.12964989  0.62925146]]\n"
     ]
    },
    {
     "data": {
      "text/plain": [
       "3"
      ]
     },
     "execution_count": 3,
     "metadata": {},
     "output_type": "execute_result"
    }
   ],
   "source": [
    "GLCOV = getGLCovariance(3,0.001,2)\n",
    "print(GLCOV)\n",
    "G = nx.from_numpy_array(GLCOV)\n",
    "G.remove_edges_from(nx.selfloop_edges(G))\n",
    "\n",
    "    \n",
    "    \n",
    "adjacencyJacobian(G)\n",
    "MLTBig(G)"
   ]
  },
  {
   "cell_type": "code",
   "execution_count": 4,
   "metadata": {},
   "outputs": [
    {
     "name": "stdout",
     "output_type": "stream",
     "text": [
      "[[ 6.73209758  0.96157094 -0.33011763]\n",
      " [ 0.96157094  0.77912888 -0.75804627]\n",
      " [-0.33011763 -0.75804627  1.11176234]]\n",
      "3\n"
     ]
    }
   ],
   "source": [
    "GLCOV = getGLCovariance(3,0.1,2)\n",
    "print(GLCOV)\n",
    "G = nx.from_numpy_array(GLCOV)\n",
    "G.remove_edges_from(nx.selfloop_edges(G))\n",
    "\n",
    "adjacencyJacobian(G)\n",
    "print(MLTBig(G))"
   ]
  },
  {
   "cell_type": "code",
   "execution_count": 5,
   "metadata": {},
   "outputs": [],
   "source": [
    "%%time\n",
    "df_3_3_1000 = makeMLTFrame(0.01, 0.01, 1.0, 1000, 3, 3)\n",
    "\n",
    "df_3_2_1000 = makeMLTFrame(0.01, 0.01, 1.0, 1000, 3, 2)\n",
    "\n",
    "df_3d_data = pd.concat([df_3_3_1000, df_3_2_1000], ignore_index = True)\n",
    "\n",
    "df_3d_data.head()\n",
    "\n",
    "sns.scatterplot(df_3d_data, x = \"alpha\", y = \"pr\", hue = \"nsamp\", palette = \"tab10\").set(title = \"Probability MLT <= n, 3 Dimensions, 1000 Trials\")\n",
    "plt.tight_layout()\n",
    "#plt.savefig('3dPlot.png', dpi = 300)"
   ]
  },
  {
   "cell_type": "code",
   "execution_count": null,
   "metadata": {},
   "outputs": [],
   "source": []
  }
 ],
 "metadata": {
  "kernelspec": {
   "display_name": "graphlassomlt",
   "language": "python",
   "name": "python3"
  },
  "language_info": {
   "codemirror_mode": {
    "name": "ipython",
    "version": 3
   },
   "file_extension": ".py",
   "mimetype": "text/x-python",
   "name": "python",
   "nbconvert_exporter": "python",
   "pygments_lexer": "ipython3",
   "version": "3.9.12"
  },
  "orig_nbformat": 4
 },
 "nbformat": 4,
 "nbformat_minor": 2
}
